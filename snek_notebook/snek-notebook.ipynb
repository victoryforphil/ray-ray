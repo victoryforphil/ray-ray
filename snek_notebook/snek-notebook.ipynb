{
 "cells": [
  {
   "cell_type": "code",
   "execution_count": 7,
   "id": "739b5ae1",
   "metadata": {},
   "outputs": [],
   "source": [
    "# Tuple Base\n",
    "# Note: w=1.0 is a point , w=0.0 is a vector\n",
    "\n",
    "def tuple(x, y, z, w):\n",
    "    return (x, y, z, w)\n",
    "\n",
    "def is_point(t):\n",
    "    return t[3] == 1.0\n",
    "def is_vector(t):\n",
    "    return t[3] == 0.0\n",
    "\n",
    "# --- Tests ---\n",
    "\n",
    "# Test with w=1.0 (a point)\n",
    "def test_tuple_create_point():\n",
    "    a = tuple(4.3, -4.2, 3.1, 1.0)\n",
    "    assert a[0] == 4.3\n",
    "    assert a[1] == -4.2\n",
    "    assert a[2] == 3.1\n",
    "    assert a[3] == 1.0\n",
    "    assert is_point(a)\n",
    "    assert not is_vector(a)\n",
    "\n",
    "test_tuple_create_point()\n",
    "\n",
    "# Test with w=0.0 (a vector)\n",
    "def test_tuple_create_vector():\n",
    "    a = tuple(4.3, -4.2, 3.1, 0.0)\n",
    "    assert a[0] == 4.3\n",
    "    assert a[1] == -4.2\n",
    "    assert a[2] == 3.1\n",
    "    assert a[3] == 0.0\n",
    "    assert not is_point(a)\n",
    "    assert is_vector(a)\n",
    "\n",
    "test_tuple_create_vector()"
   ]
  },
  {
   "cell_type": "code",
   "execution_count": 8,
   "id": "af21708e",
   "metadata": {},
   "outputs": [],
   "source": [
    "# Point and Vector constructors\n",
    "def point(x, y, z):\n",
    "    return tuple(x, y, z, 1.0)\n",
    "def vector(x, y, z):    \n",
    "    return tuple(x, y, z, 0.0)\n",
    "\n",
    "# --- Tests ---\n",
    "def test_point_constructor():\n",
    "    p = point(4, -4, 3)\n",
    "    assert p == (4, -4, 3, 1.0)\n",
    "    assert is_point(p)\n",
    "    assert not is_vector(p)\n",
    "\n",
    "test_point_constructor()\n",
    "\n",
    "def test_vector_constructor():\n",
    "    v = vector(4, -4, 3)\n",
    "    assert v == (4, -4, 3, 0.0)\n",
    "    assert not is_point(v)\n",
    "    assert is_vector(v)"
   ]
  },
  {
   "cell_type": "code",
   "execution_count": null,
   "id": "c9a5f6a1",
   "metadata": {},
   "outputs": [],
   "source": []
  }
 ],
 "metadata": {
  "kernelspec": {
   "display_name": "Python 3",
   "language": "python",
   "name": "python3"
  },
  "language_info": {
   "codemirror_mode": {
    "name": "ipython",
    "version": 3
   },
   "file_extension": ".py",
   "mimetype": "text/x-python",
   "name": "python",
   "nbconvert_exporter": "python",
   "pygments_lexer": "ipython3",
   "version": "3.13.7"
  }
 },
 "nbformat": 4,
 "nbformat_minor": 5
}
